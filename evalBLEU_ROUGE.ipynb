{
 "cells": [
  {
   "cell_type": "code",
   "execution_count": 67,
   "id": "initial_id",
   "metadata": {
    "collapsed": true,
    "ExecuteTime": {
     "end_time": "2024-08-05T15:28:18.741893400Z",
     "start_time": "2024-08-05T15:28:18.707894400Z"
    }
   },
   "outputs": [
    {
     "name": "stdout",
     "output_type": "stream",
     "text": [
      "        nct_id                                        study_title  \\\n",
      "0  NCT04980599  Effect of a Probiotic Strain Lactobacillus Par...   \n",
      "1  NCT06061692  Tongxinluo Capsule in the Treatment of Cerebra...   \n",
      "2  NCT05111444  Camrelizumab Plus Pyrotinib Plus Chemotherapy ...   \n",
      "3  NCT04677192  Microwave Ablation Combined With Chemotherapy ...   \n",
      "4  NCT05577689  Novel Therapy Target in Metastatic Prostate Ca...   \n",
      "\n",
      "                                  inclusion_criteria  \\\n",
      "0  \\n\\n* BMI\\>=30kg/m2,or percent of body fat(PBF...   \n",
      "1  \\n\\n1. Age 50-80 years (both inclusive);\\n2. C...   \n",
      "2  \\n\\n1. Age 18 years or older.\\n2. Histological...   \n",
      "3  \\n\\n* Age: 18 to 75years old, male or female;\\...   \n",
      "4  \\n\\n1. Histologically confirmed prostate cance...   \n",
      "\n",
      "                        inclusion_criteria_questions  \n",
      "0  [\"What is your BMI? (Enter '>=30' if it applie...  \n",
      "1  [\"How old are you?\", \"Do you have complaints o...  \n",
      "2  [\"Are you 18 years of age or older?\", \"Do you ...  \n",
      "3  [\"What is your age?\", \"Do you have a ECOG PS o...  \n",
      "4  [\"Has your prostate cancer been histologically...  \n"
     ]
    }
   ],
   "source": [
    "\n",
    "import pandas as pd\n",
    "\n",
    "# Load the CSV file\n",
    "file_path = 'filterquestion/FuDanDataGLMTop04.csv'\n",
    "df = pd.read_csv(file_path,encoding='utf-8')\n",
    "\n",
    "# Display the first few rows of the dataframe to inspect the columns\n",
    "print(df.head())\n"
   ]
  },
  {
   "cell_type": "code",
   "outputs": [
    {
     "name": "stdout",
     "output_type": "stream",
     "text": [
      "        nct_id                                        study_title  \\\n",
      "0  NCT04980599  Effect of a Probiotic Strain Lactobacillus Par...   \n",
      "1  NCT06061692  Tongxinluo Capsule in the Treatment of Cerebra...   \n",
      "2  NCT05111444  Camrelizumab Plus Pyrotinib Plus Chemotherapy ...   \n",
      "3  NCT04677192  Microwave Ablation Combined With Chemotherapy ...   \n",
      "4  NCT05577689  Novel Therapy Target in Metastatic Prostate Ca...   \n",
      "\n",
      "                                  inclusion_criteria  \\\n",
      "0  \\n\\n* BMI\\>=30kg/m2,or percent of body fat(PBF...   \n",
      "1  \\n\\n1. Age 50-80 years (both inclusive);\\n2. C...   \n",
      "2  \\n\\n1. Age 18 years or older.\\n2. Histological...   \n",
      "3  \\n\\n* Age: 18 to 75years old, male or female;\\...   \n",
      "4  \\n\\n1. Histologically confirmed prostate cance...   \n",
      "\n",
      "                        inclusion_criteria_questions  \n",
      "0  [\"What is your BMI?\", \"Is your body fat percen...  \n",
      "1  [\"How old are you?\", \"Do you have complaints o...  \n",
      "2  [\"Are you 18 years of age or older?\", \"Has you...  \n",
      "3  [\"What is your age?\", \"Do you have ECOG PS of ...  \n",
      "4  [\"Has your prostate cancer been histologically...  \n"
     ]
    }
   ],
   "source": [
    "file_path = 'filterquestion/FuDanDataGLMDefaultNew.csv'\n",
    "df2 = pd.read_csv(file_path,encoding='utf-8')\n",
    "\n",
    "# Display the first few rows of the dataframe to inspect the columns\n",
    "print(df2.head())\n"
   ],
   "metadata": {
    "collapsed": false,
    "ExecuteTime": {
     "end_time": "2024-08-05T15:28:19.287345400Z",
     "start_time": "2024-08-05T15:28:19.255347800Z"
    }
   },
   "id": "8da6b6864664bfa0",
   "execution_count": 68
  },
  {
   "cell_type": "code",
   "outputs": [
    {
     "name": "stdout",
     "output_type": "stream",
     "text": [
      "0.6773229269012513\n"
     ]
    }
   ],
   "source": [
    "import nltk\n",
    "# from nltk.translate.bleu_score import sentence_bleu\n",
    "from nltk.translate.bleu_score import sentence_bleu, corpus_bleu\n",
    "\n",
    "from nltk.translate.bleu_score import SmoothingFunction\n",
    "\n",
    "# Assuming 'inclusion_criteria' and 'inclusion_criteria_questions' are the column names\n",
    "inclusion_criteria = df['inclusion_criteria'].tolist()\n",
    "inclusion_criteria_questions = df['inclusion_criteria_questions'].tolist()\n",
    "inclusion_criteria_questions2 = df2['inclusion_criteria_questions'].tolist()\n",
    "# Calculate BLEU score for each pair\n",
    "bleu_scores = []\n",
    "for criteria, questions in zip(inclusion_criteria_questions2, inclusion_criteria_questions):\n",
    "    reference = [criteria.split()]  # reference should be a list of list of words\n",
    "    candidate = questions.split()   # candidate should be a list of words\n",
    "    # bleu_score = sentence_bleu(reference, candidate)\n",
    "    # bleu_scores.append(bleu_score)\n",
    "    smooth = SmoothingFunction() # 定义平滑函数对象\n",
    "\n",
    "    score = sentence_bleu(reference, candidate, smoothing_function=smooth.method5)\n",
    "    bleu_scores.append(score)\n",
    "\n",
    "    # corpus_score = corpus_bleu([reference], [candidate], smoothing_function=smooth.method1)\n",
    "    # print(score)\n",
    "\n",
    "# Print BLEU scores\n",
    "print(sum(bleu_scores)/len(bleu_scores))\n"
   ],
   "metadata": {
    "collapsed": false,
    "ExecuteTime": {
     "end_time": "2024-08-05T15:28:20.428758500Z",
     "start_time": "2024-08-05T15:28:19.968316300Z"
    }
   },
   "id": "74614101398a871c",
   "execution_count": 69
  },
  {
   "cell_type": "code",
   "outputs": [
    {
     "name": "stdout",
     "output_type": "stream",
     "text": [
      "0.3803983882999982\n"
     ]
    }
   ],
   "source": [
    "from nltk.translate.bleu_score import sentence_bleu, corpus_bleu\n",
    "\n",
    "from nltk.translate.bleu_score import SmoothingFunction\n",
    "\n",
    "reference = [['The', 'cat', 'is', 'on', 'the', 'mat']]\n",
    "\n",
    "candidate = ['The', 'cat', 'sat', 'on', 'the', 'mat']\n",
    "\n",
    "smooth = SmoothingFunction() # 定义平滑函数对象\n",
    "\n",
    "score = sentence_bleu(reference, candidate, smoothing_function=smooth.method5)\n",
    "\n",
    "corpus_score = corpus_bleu([reference], [candidate], smoothing_function=smooth.method1)\n",
    "print(score)"
   ],
   "metadata": {
    "collapsed": false,
    "ExecuteTime": {
     "end_time": "2024-08-05T15:15:03.400729800Z",
     "start_time": "2024-08-05T15:15:03.379452200Z"
    }
   },
   "id": "90a960444fe7002b",
   "execution_count": 30
  },
  {
   "cell_type": "code",
   "outputs": [
    {
     "name": "stdout",
     "output_type": "stream",
     "text": [
      "ROUGE-1:\n",
      "precision 0.7831442035149534\n",
      "recall 0.7824512064693834\n",
      "f1 0.7759051244847937\n",
      "ROUGE-2:\n",
      "precision 0.6693399276215676\n",
      "recall 0.6689800147738655\n",
      "f1 0.6625527142830465\n",
      "ROUGE-L:\n",
      "precision 0.7590252420687359\n",
      "recall 0.7585564796752903\n",
      "f1 0.7522520101819099\n"
     ]
    }
   ],
   "source": [
    "from rouge import Rouge\n",
    "\n",
    "rouge = Rouge()\n",
    "\n",
    "# Calculate ROUGE scores for each pair\n",
    "rouge_scores = []\n",
    "rouge1_list = []\n",
    "rouge2_list = []\n",
    "rougel_list = []\n",
    "\n",
    "rouge1_list_r = []\n",
    "rouge2_list_r = []\n",
    "rougel_list_r = []\n",
    "\n",
    "rouge1_list_f = []\n",
    "rouge2_list_f = []\n",
    "rougel_list_f = []\n",
    "for criteria, questions in zip(inclusion_criteria_questions2, inclusion_criteria_questions):\n",
    "    scores = rouge.get_scores(str(questions), str(criteria))\n",
    "    rouge1_p =scores[0][\"rouge-1\"][\"p\"]\n",
    "    rouge2_p =scores[0][\"rouge-2\"][\"p\"]\n",
    "    rougel_p =scores[0][\"rouge-l\"][\"p\"]\n",
    "    \n",
    "    rouge1_r =scores[0][\"rouge-1\"][\"r\"]\n",
    "    rouge2_r =scores[0][\"rouge-2\"][\"r\"]\n",
    "    rougel_r =scores[0][\"rouge-l\"][\"r\"]\n",
    "    \n",
    "    rouge1_f =scores[0][\"rouge-1\"][\"f\"]\n",
    "    rouge2_f =scores[0][\"rouge-2\"][\"f\"]\n",
    "    rougel_f =scores[0][\"rouge-l\"][\"f\"]\n",
    "    # print(rougel)\n",
    "    rouge1_list.append(rouge1_p)\n",
    "    rouge2_list.append(rouge2_p)\n",
    "    rougel_list.append(rougel_p)\n",
    "    \n",
    "    rouge1_list_r.append(rouge1_r)\n",
    "    rouge2_list_r.append(rouge2_r)\n",
    "    rougel_list_r.append(rougel_r)\n",
    "    # rouge_scores.append(scores)\n",
    "    \n",
    "    rouge1_list_f.append(rouge1_f)\n",
    "    rouge2_list_f.append(rouge2_f)\n",
    "    rougel_list_f.append(rougel_f)\n",
    "   \n",
    "\n",
    "# Print ROUGE scores\n",
    "print(\"ROUGE-1:\")\n",
    "print(\"precision\",sum(rouge1_list)/len(rouge1_list))\n",
    "print(\"recall\",sum(rouge1_list_r)/len(rouge1_list_r))\n",
    "print(\"f1\",sum(rouge1_list_f)/len(rouge1_list_f))\n",
    "print(\"ROUGE-2:\")\n",
    "print(\"precision\",sum(rouge2_list)/len(rouge2_list))\n",
    "print(\"recall\",sum(rouge2_list_r)/len(rouge2_list_r))\n",
    "print(\"f1\",sum(rouge2_list_f)/len(rouge2_list_f))\n",
    "\n",
    "print(\"ROUGE-L:\")\n",
    "print(\"precision\",sum(rougel_list)/len(rougel_list))\n",
    "print(\"recall\",sum(rougel_list_r)/len(rougel_list_r))\n",
    "print(\"f1\",sum(rougel_list_f)/len(rougel_list_f))"
   ],
   "metadata": {
    "collapsed": false,
    "ExecuteTime": {
     "end_time": "2024-08-05T15:28:44.922780Z",
     "start_time": "2024-08-05T15:28:35.197733400Z"
    }
   },
   "id": "5f6b5767a4363942",
   "execution_count": 70
  },
  {
   "cell_type": "code",
   "outputs": [],
   "source": [],
   "metadata": {
    "collapsed": false
   },
   "id": "cc80a2ff8abbb4c8"
  }
 ],
 "metadata": {
  "kernelspec": {
   "display_name": "Python 3",
   "language": "python",
   "name": "python3"
  },
  "language_info": {
   "codemirror_mode": {
    "name": "ipython",
    "version": 2
   },
   "file_extension": ".py",
   "mimetype": "text/x-python",
   "name": "python",
   "nbconvert_exporter": "python",
   "pygments_lexer": "ipython2",
   "version": "2.7.6"
  }
 },
 "nbformat": 4,
 "nbformat_minor": 5
}
